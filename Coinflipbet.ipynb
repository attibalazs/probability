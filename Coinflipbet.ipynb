{
 "cells": [
  {
   "cell_type": "markdown",
   "metadata": {},
   "source": [
    "# Coinflipbet\n",
    "\n",
    "Verifying the optimal strategy for the coin flip experiment\n",
    "Experiment explained here in detail:\n",
    "https://papers.ssrn.com/sol3/papers.cfm?abstract_id=2856963"
   ]
  },
  {
   "cell_type": "code",
   "execution_count": 1,
   "metadata": {
    "collapsed": false
   },
   "outputs": [
    {
     "name": "stderr",
     "output_type": "stream",
     "text": [
      "/home/atti/anaconda3/envs/py3/lib/python3.5/site-packages/IPython/html.py:14: ShimWarning: The `IPython.html` package has been deprecated. You should import from `notebook` instead. `IPython.html.widgets` has moved to `ipywidgets`.\n",
      "  \"`IPython.html.widgets` has moved to `ipywidgets`.\", ShimWarning)\n"
     ]
    }
   ],
   "source": [
    "import random\n",
    "import time\n",
    "\n",
    "import matplotlib.pyplot as plt\n",
    "%matplotlib inline  \n",
    "import seaborn as sns\n",
    "from collections import Counter\n",
    "import numpy as np\n",
    "import pandas as pd\n"
   ]
  },
  {
   "cell_type": "code",
   "execution_count": 2,
   "metadata": {
    "collapsed": false
   },
   "outputs": [],
   "source": [
    "def flip():    \n",
    "    outcome = random.randint(1,100)\n",
    "    #time.sleep(2)\n",
    "    # heads = 1, tails 0\n",
    "    if outcome < 60:\n",
    "        return 1\n",
    "    else:\n",
    "        return 0"
   ]
  },
  {
   "cell_type": "code",
   "execution_count": 3,
   "metadata": {
    "collapsed": false
   },
   "outputs": [],
   "source": [
    "# start betting on biased coin\n",
    "# strategy 1 bet on heads 20% of budget - according to Kelly`s criterion\n",
    "def sim_kelly(budget, bet_pct):\n",
    "    for i in range(0,300):\n",
    "        bet = int(budget*bet_pct)\n",
    "        outcome = flip()\n",
    "        budget  = budget - bet + 2*outcome*bet\n",
    "        #print(i,bet,outcome,budget)\n",
    "    return budget"
   ]
  },
  {
   "cell_type": "code",
   "execution_count": 19,
   "metadata": {
    "collapsed": false
   },
   "outputs": [
    {
     "name": "stdout",
     "output_type": "stream",
     "text": [
      "first 10 runs [7, 308, 230614, 188226, 4, 18347, 4, 336, 75, 1425]\n"
     ]
    }
   ],
   "source": [
    "runs = []\n",
    "for i in range(0,10000):\n",
    "    total = sim_kelly(25,0.2)\n",
    "    runs.append(total)\n",
    "print(\"first 10 runs\",runs[:10])\n"
   ]
  },
  {
   "cell_type": "code",
   "execution_count": 20,
   "metadata": {
    "collapsed": false
   },
   "outputs": [
    {
     "name": "stdout",
     "output_type": "stream",
     "text": [
      "1587224.1309 9732785186 4 2689.0 97829660.6087\n"
     ]
    }
   ],
   "source": [
    "# statistics\n",
    "mean = np.mean(runs)\n",
    "maxval = max(runs)\n",
    "minval = min(runs)\n",
    "medianval = np.median(runs)\n",
    "std = np.std(runs)\n",
    "print(mean,maxval,minval,medianval,std)"
   ]
  },
  {
   "cell_type": "code",
   "execution_count": null,
   "metadata": {
    "collapsed": false
   },
   "outputs": [
    {
     "data": {
      "text/plain": [
       "<Container object of 10000 artists>"
      ]
     },
     "execution_count": 21,
     "metadata": {},
     "output_type": "execute_result"
    }
   ],
   "source": [
    "# plot simulation results\n",
    "y = runs\n",
    "N = len(y)\n",
    "x = range(N)\n",
    "width = 1/1.5\n",
    "plt.bar(x, y, width, color=\"blue\")\n"
   ]
  },
  {
   "cell_type": "code",
   "execution_count": null,
   "metadata": {
    "collapsed": false
   },
   "outputs": [],
   "source": [
    "# distribution\n",
    "sns.distplot(runs);"
   ]
  }
 ],
 "metadata": {
  "kernelspec": {
   "display_name": "Python (py3)",
   "language": "python",
   "name": "python3"
  },
  "language_info": {
   "codemirror_mode": {
    "name": "ipython",
    "version": 3
   },
   "file_extension": ".py",
   "mimetype": "text/x-python",
   "name": "python",
   "nbconvert_exporter": "python",
   "pygments_lexer": "ipython3",
   "version": "3.5.2"
  }
 },
 "nbformat": 4,
 "nbformat_minor": 0
}
