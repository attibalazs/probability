{
 "cells": [
  {
   "cell_type": "markdown",
   "metadata": {},
   "source": [
    "# Coinflipbet\n",
    "\n",
    "Verifying the optimal strategy for the coin flip experiment\n",
    "Experiment explained here in detail:\n",
    "https://papers.ssrn.com/sol3/papers.cfm?abstract_id=2856963"
   ]
  },
  {
   "cell_type": "code",
   "execution_count": 31,
   "metadata": {
    "collapsed": false
   },
   "outputs": [],
   "source": [
    "import random\n",
    "import time\n",
    "\n",
    "import matplotlib.pyplot as plt\n",
    "%matplotlib inline  \n",
    "import seaborn as sns\n",
    "from collections import Counter\n",
    "import numpy as np\n",
    "import pandas as pd\n"
   ]
  },
  {
   "cell_type": "code",
   "execution_count": 32,
   "metadata": {
    "collapsed": false
   },
   "outputs": [],
   "source": [
    "def flip():    \n",
    "    outcome = random.randint(1,100)\n",
    "    #time.sleep(2)\n",
    "    # heads = 1, tails 0\n",
    "    if outcome < 60:\n",
    "        return 1\n",
    "    else:\n",
    "        return 0"
   ]
  },
  {
   "cell_type": "code",
   "execution_count": 42,
   "metadata": {
    "collapsed": false
   },
   "outputs": [],
   "source": [
    "# start betting on biased coin\n",
    "# strategy 1 bet on heads 20% of budget - according to Kelly`s criterion\n",
    "def sim_kelly(budget, bet_pct):\n",
    "    for i in range(0,300):\n",
    "        bet = int(budget*bet_pct)\n",
    "        outcome = flip()\n",
    "        budget  = budget - bet + 2*outcome*bet\n",
    "        #print(i,bet,outcome,budget)\n",
    "    return budget"
   ]
  },
  {
   "cell_type": "code",
   "execution_count": null,
   "metadata": {
    "collapsed": false
   },
   "outputs": [],
   "source": [
    "runs = []\n",
    "for i in range(0,1000000):\n",
    "    total = sim_kelly(25,0.2)\n",
    "    runs.append(total)\n",
    "print(runs)\n"
   ]
  },
  {
   "cell_type": "code",
   "execution_count": null,
   "metadata": {
    "collapsed": false
   },
   "outputs": [],
   "source": [
    "# statistics\n",
    "mean = np.mean(runs)\n",
    "maxval = max(runs)\n",
    "minval = min(runs)\n",
    "medianval = np.median(runs)\n",
    "std = np.std(runs)\n",
    "print(mean,maxval,minval,medianval,std)"
   ]
  },
  {
   "cell_type": "code",
   "execution_count": null,
   "metadata": {
    "collapsed": false
   },
   "outputs": [],
   "source": [
    "# plot simulation results\n",
    "y = runs\n",
    "N = len(y)\n",
    "x = range(N)\n",
    "width = 1/1.5\n",
    "plt.bar(x, y, width, color=\"blue\")\n"
   ]
  },
  {
   "cell_type": "code",
   "execution_count": null,
   "metadata": {
    "collapsed": false
   },
   "outputs": [],
   "source": [
    "# distribution\n",
    "sns.distplot(runs);"
   ]
  },
  {
   "cell_type": "code",
   "execution_count": null,
   "metadata": {
    "collapsed": true
   },
   "outputs": [],
   "source": []
  }
 ],
 "metadata": {
  "kernelspec": {
   "display_name": "Python (py3)",
   "language": "python",
   "name": "python3"
  },
  "language_info": {
   "codemirror_mode": {
    "name": "ipython",
    "version": 3
   },
   "file_extension": ".py",
   "mimetype": "text/x-python",
   "name": "python",
   "nbconvert_exporter": "python",
   "pygments_lexer": "ipython3",
   "version": "3.5.2"
  }
 },
 "nbformat": 4,
 "nbformat_minor": 0
}
